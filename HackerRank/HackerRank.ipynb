{
  "nbformat": 4,
  "nbformat_minor": 0,
  "metadata": {
    "colab": {
      "provenance": []
    },
    "kernelspec": {
      "name": "python3",
      "display_name": "Python 3"
    },
    "language_info": {
      "name": "python"
    }
  },
  "cells": [
    {
      "cell_type": "markdown",
      "source": [
        "**Python If-Else**"
      ],
      "metadata": {
        "id": "Dsg9eg0px8Qk"
      }
    },
    {
      "cell_type": "code",
      "execution_count": null,
      "metadata": {
        "id": "ehVWgsNdxu9g"
      },
      "outputs": [],
      "source": [
        "import math\n",
        "import os\n",
        "import random\n",
        "import re\n",
        "import sys\n",
        "\n",
        "\n",
        "if __name__ == '__main__':\n",
        "    n = int(input().strip())\n",
        "\n",
        "    if n%2!=0:\n",
        "        print(\"Weird\")\n",
        "    if (n%2==0) and (2<n and n<5):\n",
        "        print(\"Not Weird\")\n",
        "    if (n%2==0) and(6<n and n<=20):\n",
        "        print(\"Weird\")\n",
        "    if (n%2==0) and n>20:\n",
        "        print(\"Not Weird\")"
      ]
    },
    {
      "cell_type": "markdown",
      "source": [
        "**Arithmetic Operators**"
      ],
      "metadata": {
        "id": "mZAciQtZySY8"
      }
    },
    {
      "cell_type": "code",
      "source": [
        "if __name__ == '__main__':\n",
        "    a = int(input())\n",
        "    b = int(input())\n",
        "\n",
        "    if (0<a and a<10**10) and (0<b and b<10**10):\n",
        "        print(a+b)\n",
        "        print(a-b)\n",
        "        print(a*b)\n",
        "    else:\n",
        "        print(\"wrong numbers try again\")"
      ],
      "metadata": {
        "id": "lMJomzyQyUHs"
      },
      "execution_count": null,
      "outputs": []
    },
    {
      "cell_type": "markdown",
      "source": [
        "**Loops**"
      ],
      "metadata": {
        "id": "DNHUuO_wyocT"
      }
    },
    {
      "cell_type": "code",
      "source": [
        "if __name__ == '__main__':\n",
        "    n = int(input())\n",
        "\n",
        "    for i in range(n):\n",
        "        square= i*i\n",
        "        print(square)"
      ],
      "metadata": {
        "id": "NrqiHCjtyugA"
      },
      "execution_count": null,
      "outputs": []
    },
    {
      "cell_type": "markdown",
      "source": [
        "**Write a function**"
      ],
      "metadata": {
        "id": "44GHzXaUy7yJ"
      }
    },
    {
      "cell_type": "code",
      "source": [
        "def is_leap(year):\n",
        "    leap = False\n",
        "\n",
        "    # Write your logic here\n",
        "    if year%4==0 and year%100!=0:\n",
        "        leap = True\n",
        "    elif year%400==0:\n",
        "        leap = True\n",
        "    else:\n",
        "        leap = False\n",
        "\n",
        "    return leap\n",
        "\n",
        "year = int(input())\n",
        "print(is_leap(year))"
      ],
      "metadata": {
        "id": "0DQ5b0kGy8y5"
      },
      "execution_count": null,
      "outputs": []
    },
    {
      "cell_type": "markdown",
      "source": [
        "**Print Function**"
      ],
      "metadata": {
        "id": "Jii49V7HzLb_"
      }
    },
    {
      "cell_type": "code",
      "source": [
        "if __name__ == '__main__':\n",
        "    n = int(input())\n",
        "\n",
        "\n",
        "    def f(n):\n",
        "        result= \"\"\n",
        "        for i in range(1,n+1):\n",
        "            result= result + str(i)\n",
        "        return result\n",
        "\n",
        "    print(f(n))"
      ],
      "metadata": {
        "id": "rCHEMG2izSzV"
      },
      "execution_count": null,
      "outputs": []
    },
    {
      "cell_type": "markdown",
      "source": [
        "**List Comprehensions**"
      ],
      "metadata": {
        "id": "x9f2pfL0zaEB"
      }
    },
    {
      "cell_type": "code",
      "source": [
        "if __name__ == '__main__':\n",
        "    x = int(input())\n",
        "    y = int(input())\n",
        "    z = int(input())\n",
        "    n = int(input())\n",
        "\n",
        "    sonuc = [[i,j,k]\n",
        "         for i in range(0,x+1)\n",
        "         for j in range(0, y+1)\n",
        "         for k in range(0, z+1)\n",
        "         if i+j+k != n]\n",
        "print(sonuc)"
      ],
      "metadata": {
        "id": "3dZFTT1XzouN"
      },
      "execution_count": null,
      "outputs": []
    },
    {
      "cell_type": "markdown",
      "source": [
        "**Lists**"
      ],
      "metadata": {
        "id": "ecwzsBfGzuZp"
      }
    },
    {
      "cell_type": "code",
      "source": [
        "if __name__ == '__main__':\n",
        "    n = int(input())\n",
        "    lst = []\n",
        "for i in range(0,n):\n",
        "  komut = input().split()\n",
        "\n",
        "  if komut[0] == \"print\":\n",
        "    print(lst)\n",
        "  if komut[0]== \"insert\":\n",
        "    lst.insert(int(komut[1]),int(komut[2]))\n",
        "  if komut[0]== \"remove\":\n",
        "    lst.remove(int(komut[1]))\n",
        "  if komut[0]== \"append\":\n",
        "    lst.append(int(komut[1]))\n",
        "  if komut[0]== \"sort\":\n",
        "    lst.sort()\n",
        "  if komut[0]== \"pop\":\n",
        "    lst.pop()\n",
        "  if komut[0]== \"reverse\":\n",
        "    lst.reverse()"
      ],
      "metadata": {
        "id": "OII2UJqmzzA_"
      },
      "execution_count": null,
      "outputs": []
    },
    {
      "cell_type": "markdown",
      "source": [
        "**Tuples**"
      ],
      "metadata": {
        "id": "MR-d9U2hz4SD"
      }
    },
    {
      "cell_type": "code",
      "source": [
        "if __name__ == '__main__':\n",
        "    n = int(input())\n",
        "    integer_list = tuple(map(int, input().split()))\n",
        "    print(hash(integer_list))"
      ],
      "metadata": {
        "id": "6OkjyY5O1lMV"
      },
      "execution_count": null,
      "outputs": []
    },
    {
      "cell_type": "markdown",
      "source": [
        "**String Split and Join**"
      ],
      "metadata": {
        "id": "lMql6BYE2CAo"
      }
    },
    {
      "cell_type": "code",
      "source": [
        "def split_and_join(line):\n",
        "    line= line.split(\" \")\n",
        "    line=\"-\".join(line)\n",
        "    return line\n",
        "    # write your code here\n",
        "\n",
        "if __name__ == '__main__':\n",
        "    line = input()\n",
        "    result = split_and_join(line)\n",
        "    print(result)"
      ],
      "metadata": {
        "id": "k-FqM8pK2Cdg"
      },
      "execution_count": null,
      "outputs": []
    },
    {
      "cell_type": "markdown",
      "source": [
        "**Mutations**"
      ],
      "metadata": {
        "id": "oZ61D-Y-2Fd2"
      }
    },
    {
      "cell_type": "code",
      "source": [
        "def mutate_string(string, position, character):\n",
        "    l = list(string)\n",
        "    l[position] = character\n",
        "    string = ''.join(l)\n",
        "    return string\n",
        "\n",
        "\n",
        "if __name__ == '__main__':\n",
        "    s = input()\n",
        "    i, c = input().split()\n",
        "    s_new = mutate_string(s, int(i), c)\n",
        "    print(s_new)"
      ],
      "metadata": {
        "id": "bd0jcITY2FzK"
      },
      "execution_count": null,
      "outputs": []
    },
    {
      "cell_type": "markdown",
      "source": [
        "**Find a string**"
      ],
      "metadata": {
        "id": "2ZaIkAhn2iBT"
      }
    },
    {
      "cell_type": "code",
      "source": [
        "def count_substring(string, sub_string):\n",
        "    count = 0\n",
        "    for i in range(len(string) - len(sub_string) + 1):\n",
        "        if string[i:i+len(sub_string)] == sub_string:\n",
        "            count += 1\n",
        "    return count\n",
        "\n",
        "if __name__ == '__main__':\n",
        "    string = input().strip()\n",
        "    sub_string = input().strip()\n",
        "\n",
        "    count = count_substring(string, sub_string)\n",
        "    print(count)"
      ],
      "metadata": {
        "id": "Jywmi23m2rpp"
      },
      "execution_count": null,
      "outputs": []
    },
    {
      "cell_type": "markdown",
      "source": [
        "**DefaultDict Tutorial**"
      ],
      "metadata": {
        "id": "4RJEJZSe2wiL"
      }
    },
    {
      "cell_type": "code",
      "source": [
        "from collections import defaultdict\n",
        "\n",
        "n, m = map(int, input().split())\n",
        "group_a = defaultdict(list)\n",
        "\n",
        "for i in range(1, n + 1):\n",
        "    word = input()\n",
        "    group_a[word].append(i)\n",
        "\n",
        "\n",
        "for _ in range(m):\n",
        "    word = input()\n",
        "    if word in group_a:\n",
        "        print(' '.join(map(str, group_a[word])))\n",
        "    else:\n",
        "        print(-1)"
      ],
      "metadata": {
        "id": "WDiUIb1L2w_N"
      },
      "execution_count": null,
      "outputs": []
    },
    {
      "cell_type": "markdown",
      "source": [
        "**Set .add()**"
      ],
      "metadata": {
        "id": "9G6l9unk3tca"
      }
    },
    {
      "cell_type": "code",
      "source": [
        "if __name__ == '__main__':\n",
        "    n = int(input())\n",
        "    country_set = set()\n",
        "    for _ in range(n):\n",
        "        country = input().strip()\n",
        "        country_set.add(country)\n",
        "\n",
        "    print(len(country_set))"
      ],
      "metadata": {
        "id": "R2FAoQbR3yje"
      },
      "execution_count": null,
      "outputs": []
    },
    {
      "cell_type": "markdown",
      "source": [
        "**Input()**"
      ],
      "metadata": {
        "id": "EbTtWjU334Rf"
      }
    },
    {
      "cell_type": "code",
      "source": [
        "x, k = map(int, input().split())\n",
        "polynomial = input()\n",
        "\n",
        "print(eval(polynomial) == k)"
      ],
      "metadata": {
        "id": "_-dR2LuQ395v"
      },
      "execution_count": null,
      "outputs": []
    },
    {
      "cell_type": "markdown",
      "source": [
        "**Arrays**"
      ],
      "metadata": {
        "id": "QWnrxJ0w4EsS"
      }
    },
    {
      "cell_type": "code",
      "source": [
        "import numpy\n",
        "\n",
        "def arrays(arr):\n",
        "    return numpy.array(arr, dtype=float)[::-1]\n",
        "    # complete this function\n",
        "    # use numpy.array\n",
        "\n",
        "\n",
        "arr = input().strip().split(' ')\n",
        "result = arrays(arr)\n",
        "print(result)"
      ],
      "metadata": {
        "id": "qcg5Nbqv4PpH"
      },
      "execution_count": null,
      "outputs": []
    },
    {
      "cell_type": "markdown",
      "source": [
        "**Concatenate**"
      ],
      "metadata": {
        "id": "D8S7IRTH4TTJ"
      }
    },
    {
      "cell_type": "code",
      "source": [
        "import numpy as np\n",
        "n, m, p = map(int, input().split())\n",
        "\n",
        "array1 = [list(map(int, input().split())) for _ in range(n)]\n",
        "array2 = [list(map(int, input().split())) for _ in range(m)]\n",
        "\n",
        "arr1 = np.array(array1)\n",
        "arr2 = np.array(array2)\n",
        "\n",
        "result = np.concatenate((arr1, arr2))\n",
        "\n",
        "print(result)"
      ],
      "metadata": {
        "id": "w4K1hMSp4c2H"
      },
      "execution_count": null,
      "outputs": []
    },
    {
      "cell_type": "markdown",
      "source": [
        "**Sum and Prod**"
      ],
      "metadata": {
        "id": "OLnI-IgW4fEM"
      }
    },
    {
      "cell_type": "code",
      "source": [
        "import numpy as np\n",
        "\n",
        "n, m = map(int, input().split())\n",
        "array1 = [list(map(int, input().split())) for _ in range(n)]\n",
        "\n",
        "a = np.array(array1)\n",
        "b = np.sum(a, axis = 0)\n",
        "\n",
        "print(np.prod(b))"
      ],
      "metadata": {
        "id": "QjuR40mn4mgI"
      },
      "execution_count": null,
      "outputs": []
    },
    {
      "cell_type": "markdown",
      "source": [
        "**Min and Max**"
      ],
      "metadata": {
        "id": "cPX5g17W4qHW"
      }
    },
    {
      "cell_type": "code",
      "source": [
        "import numpy as np\n",
        "\n",
        "n, m = map(int, input().split())\n",
        "array1 = [list(map(int, input().split())) for _ in range(n)]\n",
        "arr1 = np.array(array1)\n",
        "\n",
        "row_min = np.min(arr1, axis=1)\n",
        "row_max = np.max(row_min)\n",
        "\n",
        "print(row_max)\n"
      ],
      "metadata": {
        "id": "BtGCT39N4qZJ"
      },
      "execution_count": null,
      "outputs": []
    }
  ]
}