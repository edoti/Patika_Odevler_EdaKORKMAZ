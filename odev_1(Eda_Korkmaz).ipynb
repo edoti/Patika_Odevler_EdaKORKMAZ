{
  "nbformat": 4,
  "nbformat_minor": 0,
  "metadata": {
    "colab": {
      "provenance": []
    },
    "kernelspec": {
      "name": "python3",
      "display_name": "Python 3"
    },
    "language_info": {
      "name": "python"
    }
  },
  "cells": [
    {
      "cell_type": "code",
      "source": [
        "#girilen sayının pozitif, negatif veya sıfır olduğunu yazan koşul"
      ],
      "metadata": {
        "id": "LcfYx488y8UL"
      },
      "execution_count": null,
      "outputs": []
    },
    {
      "cell_type": "code",
      "source": [
        "sayi  = int(input(\"Sayı giriniz \"))\n",
        "\n",
        "if sayi > 0:\n",
        "  print(\"Pozitif\")\n",
        "elif sayi < 0:\n",
        "  print(\"Negatif\")\n",
        "else:\n",
        "  print(\"Sıfır\")"
      ],
      "metadata": {
        "colab": {
          "base_uri": "https://localhost:8080/"
        },
        "id": "PtbvjuwxzBDs",
        "outputId": "65397140-1935-40a8-b893-c20f8faa4e73"
      },
      "execution_count": null,
      "outputs": [
        {
          "output_type": "stream",
          "name": "stdout",
          "text": [
            "Sayı giriniz10\n",
            "Pozitif\n"
          ]
        }
      ]
    },
    {
      "cell_type": "code",
      "source": [
        "#girilen sayının tek mi çift mi olduğunu yazan koşul"
      ],
      "metadata": {
        "id": "pDl1yn82zSaE"
      },
      "execution_count": null,
      "outputs": []
    },
    {
      "cell_type": "code",
      "source": [
        "sayi  = int(input(\"Sayı giriniz \"))\n",
        "\n",
        "if sayi%2==0:\n",
        "  print(\"Çift\")\n",
        "else:\n",
        "  print(\"Tek\")"
      ],
      "metadata": {
        "colab": {
          "base_uri": "https://localhost:8080/"
        },
        "id": "1d_iVLekzXtZ",
        "outputId": "2ba9f283-0fe9-454b-b46c-45b420d6888f"
      },
      "execution_count": null,
      "outputs": [
        {
          "output_type": "stream",
          "name": "stdout",
          "text": [
            "Sayı giriniz 5\n",
            "Tek\n"
          ]
        }
      ]
    },
    {
      "cell_type": "code",
      "source": [
        "#girilen nota göre harf aralığını yazan koşul"
      ],
      "metadata": {
        "id": "4lfVaklizepW"
      },
      "execution_count": null,
      "outputs": []
    },
    {
      "cell_type": "code",
      "source": [
        "sayi  = int(input(\"Sayı giriniz \"))\n",
        "\n",
        "if sayi >= 80:\n",
        "  print(\"A\")\n",
        "elif sayi >= 60:\n",
        "  print(\"B\")\n",
        "elif sayi >= 50:\n",
        "  print(\"C\")\n",
        "elif sayi >= 40:\n",
        "  print(\"D\")\n",
        "else:\n",
        "  print(\"F\")"
      ],
      "metadata": {
        "colab": {
          "base_uri": "https://localhost:8080/"
        },
        "id": "KAzvbNQuzke8",
        "outputId": "64605f2d-f6d6-44f1-de20-e34b935f8e8e"
      },
      "execution_count": null,
      "outputs": [
        {
          "output_type": "stream",
          "name": "stdout",
          "text": [
            "Sayı giriniz 40\n",
            "D\n"
          ]
        }
      ]
    },
    {
      "cell_type": "code",
      "source": [
        "#girilen karakter sayısı 5'den büyükse \"uzun bir ismini var\""
      ],
      "metadata": {
        "id": "_AFANhnGz6Yk"
      },
      "execution_count": null,
      "outputs": []
    },
    {
      "cell_type": "code",
      "source": [
        "isim  = input(\"Sayı giriniz \")\n",
        "\n",
        "if len(isim) > 5:\n",
        "  print(\"uzun bir isminiz var\")\n",
        "else:\n",
        "  print(\"uzun bir isminiz yok\")"
      ],
      "metadata": {
        "colab": {
          "base_uri": "https://localhost:8080/"
        },
        "id": "rTylXxnE0BJa",
        "outputId": "e4d2b443-96ca-4354-c39b-1e720b49dd8a"
      },
      "execution_count": null,
      "outputs": [
        {
          "output_type": "stream",
          "name": "stdout",
          "text": [
            "Sayı giriniz edanaz\n",
            "uzun bir isminiz var\n"
          ]
        }
      ]
    },
    {
      "cell_type": "code",
      "source": [
        "#girilen sayının asal olup olmadığını yazan koşul for"
      ],
      "metadata": {
        "id": "b7iaif_h0K1f"
      },
      "execution_count": null,
      "outputs": []
    },
    {
      "cell_type": "code",
      "source": [
        "sayi  = int(input(\"Sayı giriniz \"))\n",
        "\n",
        "for i in range(2,sayi):\n",
        "  if sayi%i==0:\n",
        "    print(\"Asal değil\")\n",
        "    break\n",
        "else:\n",
        "  print(\"Asal\")"
      ],
      "metadata": {
        "colab": {
          "base_uri": "https://localhost:8080/"
        },
        "id": "uHHKXQ-S0RM8",
        "outputId": "211712c3-cb22-4e31-caa6-db69042b7f69"
      },
      "execution_count": null,
      "outputs": [
        {
          "output_type": "stream",
          "name": "stdout",
          "text": [
            "Sayı giriniz 5\n",
            "Asal\n"
          ]
        }
      ]
    },
    {
      "cell_type": "code",
      "source": [
        "#girilen sayının asal olup olmadığını yazan koşul while"
      ],
      "metadata": {
        "id": "xbgJbFpP0Xv5"
      },
      "execution_count": null,
      "outputs": []
    },
    {
      "cell_type": "code",
      "source": [
        "sayi  = int(input(\"Sayı giriniz \"))\n",
        "\n",
        "i = 2\n",
        "while i<sayi:\n",
        "  if sayi%i==0:\n",
        "    print(\"Asal değil\")\n",
        "    break\n",
        "  i = i + 1\n",
        "else:\n",
        "  print(\"Asal\")"
      ],
      "metadata": {
        "id": "19YeHN160bco"
      },
      "execution_count": null,
      "outputs": []
    },
    {
      "cell_type": "code",
      "source": [
        "#notlar=[45,85,75,50] içinde 75 değerinin indisini yazdıran döngü"
      ],
      "metadata": {
        "id": "u1UIMvLf0kX4"
      },
      "execution_count": null,
      "outputs": []
    },
    {
      "cell_type": "code",
      "source": [
        "notlar = [45, 85, 75, 50]\n",
        "\n",
        "for i in range(len(notlar)):\n",
        "  if notlar[i] == 75:\n",
        "    print(i)\n",
        "    break"
      ],
      "metadata": {
        "colab": {
          "base_uri": "https://localhost:8080/"
        },
        "id": "Fj-6RNcy0x5g",
        "outputId": "19ac218b-2ab4-4ba5-f50c-2255e1144441"
      },
      "execution_count": null,
      "outputs": [
        {
          "output_type": "stream",
          "name": "stdout",
          "text": [
            "2\n"
          ]
        }
      ]
    },
    {
      "cell_type": "code",
      "source": [
        "#girilen sayının faktoriyelini hesaplayan fonksiyon"
      ],
      "metadata": {
        "id": "7ONfHE6n2p5a"
      },
      "execution_count": null,
      "outputs": []
    },
    {
      "cell_type": "code",
      "source": [
        "sayi  = 5\n",
        "\n",
        "for i in range(1,sayi):\n",
        "  sayi = sayi * i\n",
        "print(sayi)"
      ],
      "metadata": {
        "colab": {
          "base_uri": "https://localhost:8080/"
        },
        "id": "AbMHIBhi2wZw",
        "outputId": "fdba3158-dad7-44bb-8580-597957cadda1"
      },
      "execution_count": null,
      "outputs": [
        {
          "output_type": "stream",
          "name": "stdout",
          "text": [
            "120\n"
          ]
        }
      ]
    },
    {
      "cell_type": "code",
      "source": [
        "#kullanıcıdan pozitif sayı bekleyen, pozitifi de gördüğü an bastıran, negatif sayı girildiğinde tekrardan sayı bekleyen (for)"
      ],
      "metadata": {
        "id": "7Rg9xb-q4FEx"
      },
      "execution_count": null,
      "outputs": []
    },
    {
      "cell_type": "code",
      "source": [
        "for _ in range(100):  # 100 defaya kadar denemeye izin verir, genelde sonsuz gibi davranır\n",
        "    sayi = int(input(\"bir sayı girin: \"))\n",
        "    if sayi > 0:\n",
        "        print(\"Girilen pozitif sayı:\", sayi)\n",
        "        break\n",
        "    else:\n",
        "        print(\"Negatif sayı girdiniz, tekrar deneyin.\")"
      ],
      "metadata": {
        "colab": {
          "base_uri": "https://localhost:8080/"
        },
        "id": "y5aNzhR02n4o",
        "outputId": "ce53ecad-21e2-4e0d-fdf5-45addb145503"
      },
      "execution_count": null,
      "outputs": [
        {
          "output_type": "stream",
          "name": "stdout",
          "text": [
            "bir sayı girin: -8\n",
            "Negatif sayı girdiniz, tekrar deneyin.\n",
            "bir sayı girin: 7\n",
            "Girilen pozitif sayı: 7\n"
          ]
        }
      ]
    },
    {
      "cell_type": "code",
      "source": [
        "#fonksiyon ile girilen sayının asal olup olmadığını bulan kod dizisi for"
      ],
      "metadata": {
        "id": "16OezvC16vTh"
      },
      "execution_count": null,
      "outputs": []
    },
    {
      "cell_type": "code",
      "source": [
        "def asal_mi_for(sayi):\n",
        "    if sayi <= 1:\n",
        "        return False\n",
        "    for i in range(2, int(sayi**0.5) + 1):\n",
        "        if sayi % i == 0:\n",
        "            return False\n",
        "    return True\n",
        "\n",
        "sayi = int(input(\"Bir sayı girin: \"))\n",
        "if asal_mi_for(sayi):\n",
        "    print(\"Asal sayı\")\n",
        "else:\n",
        "    print(\"Asal değil\")"
      ],
      "metadata": {
        "id": "q5R2etAp6wF4",
        "colab": {
          "base_uri": "https://localhost:8080/"
        },
        "outputId": "9988489f-edec-4c50-8658-579c6e70319b"
      },
      "execution_count": 3,
      "outputs": [
        {
          "output_type": "stream",
          "name": "stdout",
          "text": [
            "Bir sayı girin: 10\n",
            "Asal değil\n"
          ]
        }
      ]
    },
    {
      "cell_type": "code",
      "source": [
        "#fonksiyon ile girilen sayının asal olup olmadığını bulan kod dizisi while"
      ],
      "metadata": {
        "id": "nuPf1aYqSJzu"
      },
      "execution_count": null,
      "outputs": []
    },
    {
      "cell_type": "code",
      "source": [
        "def asal_mi_while(sayi):\n",
        "    if sayi <= 1:\n",
        "        return False\n",
        "    i = 2\n",
        "    while i <= int(sayi**0.5):\n",
        "        if sayi % i == 0:\n",
        "            return False\n",
        "        i += 1\n",
        "    return True\n",
        "\n",
        "sayi = int(input(\"Bir sayı girin: \"))\n",
        "if asal_mi_while(sayi):\n",
        "    print(\"Asal sayı\")\n",
        "else:\n",
        "    print(\"Asal değil\")"
      ],
      "metadata": {
        "colab": {
          "base_uri": "https://localhost:8080/"
        },
        "id": "yVBVHNyLSNvU",
        "outputId": "dc9ad89e-57bc-4b1c-8fb6-f76291b2f675"
      },
      "execution_count": 8,
      "outputs": [
        {
          "output_type": "stream",
          "name": "stdout",
          "text": [
            "Bir sayı girin: 4\n",
            "Asal değil\n"
          ]
        }
      ]
    },
    {
      "cell_type": "code",
      "source": [
        "#fonksiyon ile girilen sayının faktöriyelini alalım. (for)"
      ],
      "metadata": {
        "id": "EPEox4ZCTaGc"
      },
      "execution_count": null,
      "outputs": []
    },
    {
      "cell_type": "code",
      "source": [
        "def fak(sayi):\n",
        "    faktoriyel = 1\n",
        "    for i in range(1, sayi + 1):\n",
        "        faktoriyel *= i\n",
        "    return faktoriyel\n",
        "\n",
        "sayi = int(input(\"Bir sayı girin: \"))\n",
        "print(fak(sayi))"
      ],
      "metadata": {
        "colab": {
          "base_uri": "https://localhost:8080/"
        },
        "id": "-MjGQmbwTcbw",
        "outputId": "1faef3ab-0956-4cbc-f365-f60dd8e3b2d5"
      },
      "execution_count": 9,
      "outputs": [
        {
          "output_type": "stream",
          "name": "stdout",
          "text": [
            "Bir sayı girin: 5\n",
            "120\n"
          ]
        }
      ]
    },
    {
      "cell_type": "code",
      "source": [
        "#fonksiyon ile girilen sayının faktöriyelini alalım. (while)"
      ],
      "metadata": {
        "id": "rLsFDoCtTx-h"
      },
      "execution_count": null,
      "outputs": []
    },
    {
      "cell_type": "code",
      "source": [
        "def fak(sayi):\n",
        "    faktoriyel = 1\n",
        "    while sayi > 1:\n",
        "        faktoriyel *= sayi\n",
        "        sayi -= 1\n",
        "    return faktoriyel\n",
        "\n",
        "sayi = int(input(\"Bir sayı girin: \"))\n",
        "print(fak(sayi))"
      ],
      "metadata": {
        "colab": {
          "base_uri": "https://localhost:8080/"
        },
        "id": "oLcpGFMOTz1f",
        "outputId": "f1789519-589c-4502-ffd8-850ff2acb5ef"
      },
      "execution_count": 10,
      "outputs": [
        {
          "output_type": "stream",
          "name": "stdout",
          "text": [
            "Bir sayı girin: 5\n",
            "120\n"
          ]
        }
      ]
    }
  ]
}